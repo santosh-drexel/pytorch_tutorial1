{
 "cells": [
  {
   "cell_type": "code",
   "execution_count": 1,
   "id": "069d4e80",
   "metadata": {},
   "outputs": [
    {
     "name": "stdout",
     "output_type": "stream",
     "text": [
      "Hello from Python - Deep into Neural Networks\n"
     ]
    }
   ],
   "source": [
    "print('Hello from Python - Deep into Neural Networks')"
   ]
  },
  {
   "cell_type": "markdown",
   "id": "a75c609b",
   "metadata": {},
   "source": [
    "Tensor Basics"
   ]
  },
  {
   "cell_type": "code",
   "execution_count": null,
   "id": "27a5e0d7",
   "metadata": {},
   "outputs": [],
   "source": [
    "import torch\n",
    "import numpy as np\n",
    "\n",
    "# tensor - default datatype is float32\n",
    "# numpy - default datatype is float64"
   ]
  },
  {
   "cell_type": "markdown",
   "id": "94f20be6",
   "metadata": {},
   "source": [
    "List"
   ]
  },
  {
   "cell_type": "code",
   "execution_count": 6,
   "id": "845bbeeb",
   "metadata": {},
   "outputs": [
    {
     "name": "stdout",
     "output_type": "stream",
     "text": [
      "[1, 2, 3, 4, 5]\n",
      "[[1, 2, 3, 4, 5], [11, 22, 33, 44, 55]]\n"
     ]
    }
   ],
   "source": [
    "my_list1 = [1, 2, 3, 4, 5]\n",
    "my_list2 = [[1, 2, 3, 4, 5],\n",
    "            [11, 22, 33, 44, 55]\n",
    "            ]\n",
    "\n",
    "print(my_list1)\n",
    "print(my_list2)"
   ]
  },
  {
   "cell_type": "markdown",
   "id": "4cec5c72",
   "metadata": {},
   "source": [
    "Numpy Arrays"
   ]
  },
  {
   "cell_type": "code",
   "execution_count": 13,
   "id": "68834f24",
   "metadata": {},
   "outputs": [
    {
     "name": "stdout",
     "output_type": "stream",
     "text": [
      "[0.15920047 0.12871123 0.29928919 0.17496501 0.87800078]\n",
      "[[0.11461783 0.71935623 0.73290963 0.03135515]\n",
      " [0.91746163 0.88280642 0.98643101 0.74672491]\n",
      " [0.20001665 0.86595793 0.94102601 0.7867373 ]]\n",
      "float64 float64\n"
     ]
    }
   ],
   "source": [
    "np1 = np.random.rand(5)\n",
    "np2 = np.random.rand(3, 4)\n",
    "\n",
    "print(np1)\n",
    "print(np2)\n",
    "print(np1.dtype, np2.dtype)"
   ]
  },
  {
   "cell_type": "markdown",
   "id": "1161e93e",
   "metadata": {},
   "source": [
    "# #Tensors\n",
    "Tensors are powerful than Numpy Arrays which are powerful than Python Lists"
   ]
  },
  {
   "cell_type": "code",
   "execution_count": 11,
   "id": "2f6e4d53",
   "metadata": {},
   "outputs": [
    {
     "name": "stdout",
     "output_type": "stream",
     "text": [
      "tensor([1.0080, 0.3651, 0.0638])\n",
      "tensor([[0.6676, 0.9053],\n",
      "        [0.2004, 0.2019],\n",
      "        [0.2598, 0.8550]])\n",
      "tensor([[-1.4545,  0.8710],\n",
      "        [-1.4729,  1.0837],\n",
      "        [ 0.1087,  0.0435]])\n"
     ]
    }
   ],
   "source": [
    "tensor_2d_1 = torch.randn(3)\n",
    "tensor_2d_2 = torch.rand(3, 2)\n",
    "tensor_2d_3 = torch.randn(3, 2)\n",
    "\n",
    "print(tensor_2d_1)\n",
    "print(tensor_2d_2)\n",
    "print(tensor_2d_3)"
   ]
  },
  {
   "cell_type": "markdown",
   "id": "4572d238",
   "metadata": {},
   "source": [
    "3d tensors"
   ]
  },
  {
   "cell_type": "code",
   "execution_count": 15,
   "id": "6959b117",
   "metadata": {},
   "outputs": [
    {
     "name": "stdout",
     "output_type": "stream",
     "text": [
      "tensor([[[-1.1649, -0.2796, -1.6595, -1.1796],\n",
      "         [-0.0214, -0.6051, -1.2362,  0.3210],\n",
      "         [ 0.1078, -0.4008, -1.8707,  0.3403]],\n",
      "\n",
      "        [[ 0.7632, -0.1155, -1.2555, -1.4107],\n",
      "         [ 0.3409,  0.7744,  1.2131,  0.5383],\n",
      "         [ 0.3284, -0.6797, -1.5956, -0.0392]]])\n",
      "torch.float32\n"
     ]
    }
   ],
   "source": [
    "tensor_3d_1 = torch.randn(2, 3, 4)\n",
    "print(tensor_3d_1)\n",
    "print(tensor_3d_1.dtype)\n",
    "\n",
    "# 2 sets\n",
    "# 3 rows and 4 columns"
   ]
  },
  {
   "cell_type": "markdown",
   "id": "5f7f8922",
   "metadata": {},
   "source": [
    "Create tensor out of numpy array"
   ]
  },
  {
   "cell_type": "code",
   "execution_count": 17,
   "id": "f07b3bf3",
   "metadata": {},
   "outputs": [
    {
     "name": "stdout",
     "output_type": "stream",
     "text": [
      "tensor([0.1592, 0.1287, 0.2993, 0.1750, 0.8780], dtype=torch.float64)\n",
      "tensor([[0.1146, 0.7194, 0.7329, 0.0314],\n",
      "        [0.9175, 0.8828, 0.9864, 0.7467],\n",
      "        [0.2000, 0.8660, 0.9410, 0.7867]], dtype=torch.float64)\n"
     ]
    }
   ],
   "source": [
    "npTensor1 = torch.tensor(np1)\n",
    "npTensor2 = torch.tensor(np2)\n",
    "print(npTensor1)\n",
    "print(npTensor2)"
   ]
  }
 ],
 "metadata": {
  "kernelspec": {
   "display_name": "base",
   "language": "python",
   "name": "python3"
  },
  "language_info": {
   "codemirror_mode": {
    "name": "ipython",
    "version": 3
   },
   "file_extension": ".py",
   "mimetype": "text/x-python",
   "name": "python",
   "nbconvert_exporter": "python",
   "pygments_lexer": "ipython3",
   "version": "3.12.3"
  }
 },
 "nbformat": 4,
 "nbformat_minor": 5
}
